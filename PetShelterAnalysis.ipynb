{
 "cells": [
  {
   "cell_type": "code",
   "execution_count": 2,
   "id": "13b3a957-1be4-4be7-a87e-1fea2ef0d6d1",
   "metadata": {},
   "outputs": [],
   "source": [
    "import pandas as pd\n",
    "\n",
    "dfs = {\n",
    "    \"intakes\": pd.read_csv(\"aac_intakes.csv\"),\n",
    "    \"intakes_outcomes\": pd.read_csv(\"aac_intakes_outcomes.csv\"),\n",
    "    \"outcomes\": pd.read_csv(\"aac_outcomes.csv\")\n",
    "}\n",
    "\n",
    "intakes_df = dfs[\"intakes\"]\n",
    "intakes_outcomes_df = dfs[\"intakes_outcomes\"]\n",
    "outcomes_df = dfs[\"outcomes\"]"
   ]
  },
  {
   "cell_type": "markdown",
   "id": "2055f514-e200-488b-9064-1a77f3ca6ebf",
   "metadata": {},
   "source": [
    "# Is there an area where more pets are found?\n",
    "\n",
    "## Find the top 5 places where animals are found so the shelter can coordinate with local volunteers and animal control to monitor these areas.\n",
    "\n",
    "Most pets are found in Austin (TX).\n",
    "\n",
    "To find the top 5 places where animals are found, I grouped the data by the \"found_location\" column and then counted the number of occurrences for each location. After that, I sorted the locations based on the count and selected the top 5."
   ]
  },
  {
   "cell_type": "code",
   "execution_count": 3,
   "id": "ec73392b-c84d-4b39-b969-206d0b984593",
   "metadata": {},
   "outputs": [
    {
     "name": "stdout",
     "output_type": "stream",
     "text": [
      "Top 5 locations where animals are found:\n",
      "found_location\n",
      "Austin (TX)                          14443\n",
      "Outside Jurisdiction                   948\n",
      "Travis (TX)                            921\n",
      "7201 Levander Loop in Austin (TX)      517\n",
      "Del Valle (TX)                         411\n",
      "Name: count, dtype: int64\n"
     ]
    }
   ],
   "source": [
    "found_locations_counts = intakes_df['found_location'].value_counts()\n",
    "\n",
    "top_5_locations = found_locations_counts.head(5)\n",
    "print(\"Top 5 locations where animals are found:\")\n",
    "print(top_5_locations)"
   ]
  },
  {
   "cell_type": "markdown",
   "id": "27916e4c-afa7-48f1-8a1e-c1894be78047",
   "metadata": {},
   "source": [
    "# What is the average number of pets found in a month in the year 2015? Are there months where there is a higher number of animals found?\n",
    "\n",
    "## Knowing the number of pets the shelter might see in a month can help them gather enough resources and donations to care for the animals they receive.\n",
    "\n",
    "The average number of pets found per month in 2015 was 1,559. More pets than average were found from May until October.\n",
    "\n",
    "To find the average number of pets found in a month in the year 2015 and identify months with a higher number of animals found, I filtered the data for the year 2015, grouped it by month, and then calculated the average number of pets found in each month."
   ]
  },
  {
   "cell_type": "code",
   "execution_count": 14,
   "id": "162a6885-9e97-49d9-8859-a4cccb7efa72",
   "metadata": {},
   "outputs": [
    {
     "name": "stdout",
     "output_type": "stream",
     "text": [
      "Average number of pets found in a month in 2015: 1559.3333333333333\n"
     ]
    }
   ],
   "source": [
    "intakes_2015 = intakes_df[intakes_df['datetime'].str.startswith('2015')].copy()\n",
    "intakes_2015['month'] = pd.to_datetime(intakes_2015['datetime']).dt.month\n",
    "monthly_counts_2015 = intakes_2015.groupby('month').size()\n",
    "average_pets_per_month = monthly_counts_2015.mean()\n",
    "months_with_higher_counts = monthly_counts_2015[monthly_counts_2015 > average_pets_per_month]\n",
    "\n",
    "print(\"Average number of pets found in a month in 2015:\", average_pets_per_month)"
   ]
  },
  {
   "cell_type": "code",
   "execution_count": 13,
   "id": "57f931ac-9419-4837-acc1-223afbc6cfda",
   "metadata": {},
   "outputs": [
    {
     "name": "stdout",
     "output_type": "stream",
     "text": [
      "\n",
      "Months with a higher number of animals found than the average:\n",
      "month\n",
      "5     2094\n",
      "6     2189\n",
      "7     1635\n",
      "8     1718\n",
      "9     1591\n",
      "10    1740\n",
      "dtype: int64\n"
     ]
    }
   ],
   "source": [
    "print(\"\\nMonths with a higher number of animals found than the average:\")\n",
    "print(months_with_higher_counts)"
   ]
  },
  {
   "cell_type": "markdown",
   "id": "1c5dc6bb-c05e-4846-9952-0d4074dfd866",
   "metadata": {},
   "source": [
    "# What is the ratio of incoming pets vs. adopted pets?\n",
    "\n",
    "## This key metric helps the shelter know how they are doing.\n",
    "\n",
    "The ratio of incoming vs adopted pets is 2.34.\n",
    "\n",
    "To calculate the ratio of incoming pets vs. adopted pets, I considered both intakes and outcomes data. I calculated the total number of incoming pets and the total number of adopted pets, and then found the ratio between them. "
   ]
  },
  {
   "cell_type": "code",
   "execution_count": 6,
   "id": "5d7ac037-319f-4324-9a59-18aa70546655",
   "metadata": {},
   "outputs": [
    {
     "name": "stdout",
     "output_type": "stream",
     "text": [
      "Ratio of incoming pets vs. adopted pets: 2.3424573498480954\n"
     ]
    }
   ],
   "source": [
    "total_intakes = len(intakes_df)\n",
    "adopted_outcomes = outcomes_df[outcomes_df['outcome_type'] == 'Adoption']\n",
    "total_adoptions = len(adopted_outcomes)\n",
    "ratio_incoming_to_adopted = total_intakes / total_adoptions\n",
    "\n",
    "print(\"Ratio of incoming pets vs. adopted pets:\", ratio_incoming_to_adopted)"
   ]
  },
  {
   "cell_type": "markdown",
   "id": "f501e702-d7b6-4945-b12f-1c604606c6e1",
   "metadata": {},
   "source": [
    "# What is the distribution of the types of animals in the shelter?\n",
    "\n",
    "## Find the count of each type of animal in the shelter.\n",
    "\n",
    "There are 45,743 dogs, 29,659 cats, 4,434 \"other\", 342 birds, and 9 animals in the livestock catergory.\n",
    "\n",
    "To find the distribution of the types of animals in the shelter, I simply counted the occurrences of each unique value in the \"animal_type\" column of the intakes DataFrame."
   ]
  },
  {
   "cell_type": "code",
   "execution_count": 8,
   "id": "2b9f4ee3-39e8-4b68-a7ed-13fd360f95a1",
   "metadata": {},
   "outputs": [
    {
     "name": "stdout",
     "output_type": "stream",
     "text": [
      "Distribution of types of animals in the shelter:\n",
      "animal_type\n",
      "Dog          45743\n",
      "Cat          29659\n",
      "Other         4434\n",
      "Bird           342\n",
      "Livestock        9\n",
      "Name: count, dtype: int64\n"
     ]
    }
   ],
   "source": [
    "animal_type_counts = intakes_df['animal_type'].value_counts()\n",
    "\n",
    "print(\"Distribution of types of animals in the shelter:\")\n",
    "print(animal_type_counts)"
   ]
  },
  {
   "cell_type": "markdown",
   "id": "f2e7d804-67da-427c-b6db-58ca8b4c80ca",
   "metadata": {},
   "source": [
    "# What are the adoption rates for specific breeds?\n",
    "\n",
    "## Find the top 5 dog breeds in the shelter (based on count) and then find the adoption percentage of each breed.\n",
    "\n",
    "The top five breeds, as well as their adoption percentages, are Pit Bull Mix (37.32%), Chihuahua Shorthair Mix (47.18%), Labrador Retriever Mix (49.66%), German Shepherd Mix (47.73%), and Australian Cattle Dog Mix (56.02%).\n",
    "\n",
    "To find the adoption rates for specific breeds, I first identified the top 5 dog breeds in the shelter based on count. Then, I calculated the adoption percentage for each of these breeds."
   ]
  },
  {
   "cell_type": "code",
   "execution_count": 15,
   "id": "52c03d67-7a17-4a25-840e-dbb28f4a50a3",
   "metadata": {},
   "outputs": [
    {
     "name": "stdout",
     "output_type": "stream",
     "text": [
      "Top 5 dog breeds in the shelter:\n",
      "breed\n",
      "Pit Bull Mix                 6382\n",
      "Chihuahua Shorthair Mix      4860\n",
      "Labrador Retriever Mix       4841\n",
      "German Shepherd Mix          1963\n",
      "Australian Cattle Dog Mix    1105\n",
      "Name: count, dtype: int64\n"
     ]
    }
   ],
   "source": [
    "dog_intakes = intakes_df[intakes_df['animal_type'] == 'Dog']\n",
    "dog_breed_counts = dog_intakes['breed'].value_counts()\n",
    "top_5_dog_breeds = dog_breed_counts.head(5)\n",
    "\n",
    "adopted_dogs = outcomes_df[(outcomes_df['outcome_type'] == 'Adoption') & (outcomes_df['animal_type'] == 'Dog')]\n",
    "adoption_rates = {}\n",
    "for breed in top_5_dog_breeds.index:\n",
    "    total_dogs_of_breed = dog_breed_counts[breed]\n",
    "    adopted_dogs_of_breed = adopted_dogs[adopted_dogs['breed'] == breed].shape[0]\n",
    "    adoption_rate = (adopted_dogs_of_breed / total_dogs_of_breed) * 100\n",
    "    adoption_rates[breed] = adoption_rate\n",
    "\n",
    "print(\"Top 5 dog breeds in the shelter:\")\n",
    "print(top_5_dog_breeds)"
   ]
  },
  {
   "cell_type": "code",
   "execution_count": 12,
   "id": "eb9424db-fccd-4e8a-9cb8-e89b40b2aade",
   "metadata": {},
   "outputs": [
    {
     "name": "stdout",
     "output_type": "stream",
     "text": [
      "Adoption rates for top 5 dog breeds:\n",
      "Pit Bull Mix: 37.32%\n",
      "Chihuahua Shorthair Mix: 47.18%\n",
      "Labrador Retriever Mix: 49.66%\n",
      "German Shepherd Mix: 47.73%\n",
      "Australian Cattle Dog Mix: 56.02%\n"
     ]
    }
   ],
   "source": [
    "print(\"Adoption rates for top 5 dog breeds:\")\n",
    "for breed, adoption_rate in adoption_rates.items():\n",
    "    print(f\"{breed}: {adoption_rate:.2f}%\")"
   ]
  },
  {
   "cell_type": "markdown",
   "id": "8ffa4dc1-4127-4ef1-b783-49f6f97b0120",
   "metadata": {},
   "source": [
    "# What are the adoption rates for different colorings?\n",
    "\n",
    "## Find the top 5 colorings in the shelter (based on count) and then find the adoption percentage of each color.\n",
    "\n",
    "The top five colorings, as well as their adoption percentages, are black/white (45.73%), black (41.09%), brown tabby (42.66%), brown (22.19%), and white (37.98%).\n",
    "\n",
    "To find the adoption rates for different colorings, I followed a similar approach to what I did for breeds. First, I identified the top 5 colorings in the shelter based on count, and then I calculated the adoption percentage for each color. "
   ]
  },
  {
   "cell_type": "code",
   "execution_count": 16,
   "id": "ba56b8ad-ae7e-4b5f-a052-ad599b0ad2f5",
   "metadata": {},
   "outputs": [
    {
     "name": "stdout",
     "output_type": "stream",
     "text": [
      "Top 5 colorings in the shelter:\n",
      "color\n",
      "Black/White    8340\n",
      "Black          6710\n",
      "Brown Tabby    4487\n",
      "Brown          3618\n",
      "White          2849\n",
      "Name: count, dtype: int64\n"
     ]
    }
   ],
   "source": [
    "color_counts = intakes_df['color'].value_counts()\n",
    "top_5_colors = color_counts.head(5)\n",
    "\n",
    "adopted_animals = outcomes_df[outcomes_df['outcome_type'] == 'Adoption']\n",
    "adoption_rates_colors = {}\n",
    "for color in top_5_colors.index:\n",
    "    total_animals_of_color = color_counts[color]\n",
    "    adopted_animals_of_color = adopted_animals[adopted_animals['color'] == color].shape[0]\n",
    "    adoption_rate_color = (adopted_animals_of_color / total_animals_of_color) * 100\n",
    "    adoption_rates_colors[color] = adoption_rate_color\n",
    "\n",
    "print(\"Top 5 colorings in the shelter:\")\n",
    "print(top_5_colors)"
   ]
  },
  {
   "cell_type": "code",
   "execution_count": 17,
   "id": "71b63868-c1df-462f-b382-9a692f54653a",
   "metadata": {},
   "outputs": [
    {
     "name": "stdout",
     "output_type": "stream",
     "text": [
      "Adoption rates for top 5 colorings:\n",
      "Black/White: 45.73%\n",
      "Black: 41.09%\n",
      "Brown Tabby: 42.66%\n",
      "Brown: 22.19%\n",
      "White: 37.98%\n"
     ]
    }
   ],
   "source": [
    "print(\"Adoption rates for top 5 colorings:\")\n",
    "for color, adoption_rate_color in adoption_rates_colors.items():\n",
    "    print(f\"{color}: {adoption_rate_color:.2f}%\")"
   ]
  },
  {
   "cell_type": "markdown",
   "id": "88bb1cdb-ab5d-402b-aeca-e1bfd285a42a",
   "metadata": {},
   "source": [
    "# About how many animals are spayed/neutered each month?\n",
    "\n",
    "## This will help the shelter allocate resources and staff. Assume that all intact males and females will be spayed/neutered.\n",
    "\n",
    "The average number of animals that are spayed/neutered each month is 4112.\n",
    "\n",
    "To calculate how many animals are spayed/neutered each month, I first identified the intact animals each month (i.e., those that haven't been spayed/neutered) and then assumed that all of them will be spayed/neutered. We can achieve this by filtering the intakes data for intact animals each month and then counting them."
   ]
  },
  {
   "cell_type": "code",
   "execution_count": 21,
   "id": "86cef918-c281-44e1-93ff-dcb157694dfb",
   "metadata": {},
   "outputs": [
    {
     "name": "stdout",
     "output_type": "stream",
     "text": [
      "Estimated number of spayed/neutered animals each month:\n",
      "month\n",
      "1     3550\n",
      "2     3233\n",
      "3     3546\n",
      "4     3535\n",
      "5     5214\n",
      "6     5008\n",
      "7     4298\n",
      "8     4132\n",
      "9     4196\n",
      "10    4873\n",
      "11    4107\n",
      "12    3656\n",
      "dtype: int64\n"
     ]
    }
   ],
   "source": [
    "intakes_df['sex_upon_intake'].fillna('Unknown', inplace=True)\n",
    "intact_animals = intakes_df[intakes_df['sex_upon_intake'].str.contains('Intact')].copy()\n",
    "intact_animals.loc[:, 'month'] = pd.to_datetime(intact_animals['datetime']).dt.month\n",
    "intact_animals_per_month = intact_animals.groupby('month').size()\n",
    "spayed_neutered_per_month = intact_animals_per_month\n",
    "\n",
    "print(\"Estimated number of spayed/neutered animals each month:\")\n",
    "print(spayed_neutered_per_month)"
   ]
  },
  {
   "cell_type": "code",
   "execution_count": 22,
   "id": "85fce7a9-1bdf-437c-a708-24864b4d671d",
   "metadata": {},
   "outputs": [
    {
     "name": "stdout",
     "output_type": "stream",
     "text": [
      "Average number of spayed/neutered animals per month: 4112.333333333333\n"
     ]
    }
   ],
   "source": [
    "average_spayed_neutered_per_month = spayed_neutered_per_month.mean()\n",
    "\n",
    "print(\"Average number of spayed/neutered animals per month:\", average_spayed_neutered_per_month)"
   ]
  },
  {
   "cell_type": "markdown",
   "id": "3f9e7e46-5121-4056-b39b-ab722e10c11c",
   "metadata": {},
   "source": [
    "# EXTRA CREDIT"
   ]
  },
  {
   "cell_type": "markdown",
   "id": "153f1e25-3bf2-4241-9a7e-510fec946b67",
   "metadata": {},
   "source": [
    "# How many animals in the shelter are repeats? Which animal was returned to the shelter the most?\n",
    "\n",
    "## This means the animal has been brought in more than once.\n",
    "\n",
    "13,976 animals were repeats, and a rat terrier mix named \"Lil Bit\" was returned the most (13 times).\n",
    "\n",
    "To determine how many animals in the shelter are repeats and which animal was returned to the shelter the most, I identified animals that have been brought in more than once. I did this by looking for duplicate animal IDs in the intakes DataFrame."
   ]
  },
  {
   "cell_type": "code",
   "execution_count": 32,
   "id": "5f7c6dc8-8e65-46ee-9e4d-339faca50afa",
   "metadata": {},
   "outputs": [
    {
     "name": "stdout",
     "output_type": "stream",
     "text": [
      "Number of repeat animals in the shelter: 13976\n"
     ]
    }
   ],
   "source": [
    "duplicate_animals = intakes_df[intakes_df.duplicated(subset='animal_id', keep=False)]\n",
    "num_repeat_animals = len(duplicate_animals)\n",
    "\n",
    "most_returned_animal_name = most_returned_animal_info['name']\n",
    "most_returned_animal_breed = most_returned_animal_info['breed']\n",
    "num_returns_most_returned_animal = intakes_df[intakes_df['animal_id'] == most_returned_animal].shape[0]\n",
    "\n",
    "print(\"Number of repeat animals in the shelter:\", num_repeat_animals)"
   ]
  },
  {
   "cell_type": "code",
   "execution_count": 33,
   "id": "4268c6cf-658e-47cb-8e6f-fff6016646f8",
   "metadata": {},
   "outputs": [
    {
     "name": "stdout",
     "output_type": "stream",
     "text": [
      "The animal returned to the shelter the most: A721033\n",
      "Name: Lil Bit\n",
      "Breed: Rat Terrier Mix\n",
      "Number of times the most returned animal was brought into the shelter: 13\n"
     ]
    }
   ],
   "source": [
    "print(\"The animal returned to the shelter the most:\", most_returned_animal)\n",
    "print(\"Name:\", most_returned_animal_name)\n",
    "print(\"Breed:\", most_returned_animal_breed)\n",
    "print(\"Number of times the most returned animal was brought into the shelter:\", num_returns_most_returned_animal)"
   ]
  },
  {
   "cell_type": "markdown",
   "id": "b0da8389-3553-4246-b20c-8f302c2d7dd8",
   "metadata": {},
   "source": [
    "# What are the adoption rates for the following age groups?\n",
    "\n",
    "#### baby: 4 months and less (51.41%)\n",
    "#### young: 5 months - 2 years (41.94%)\n",
    "#### adult: 3 years - 10 years (33.67%)\n",
    "#### senior: 11+ (12.5%)\n",
    "\n",
    "I categorizes animals based on their age at the time of outcome into four groups: baby, young, adult, and senior. I then filtered the data to include only adopted animals and calculated the adoption counts for each age group. The total counts of animals in each age group are also calculated. Finally, I computed the adoption rates by dividing the adoption counts by the total counts and multiplying by 100."
   ]
  },
  {
   "cell_type": "code",
   "execution_count": 44,
   "id": "db186a7e-5a09-4ca4-be5e-03b9fbace562",
   "metadata": {},
   "outputs": [
    {
     "name": "stdout",
     "output_type": "stream",
     "text": [
      "Adoption rates for the specified age groups:\n",
      "age_group\n",
      "young      41.941527\n",
      "baby       51.413902\n",
      "adult      33.673191\n",
      "senior     21.234454\n",
      "unknown    12.500000\n",
      "Name: count, dtype: float64\n"
     ]
    }
   ],
   "source": [
    "def categorize_age_group(age_upon_outcome):\n",
    "    if isinstance(age_upon_outcome, str):\n",
    "        age_split = age_upon_outcome.split()\n",
    "        age = int(age_split[0])\n",
    "        unit = age_split[1]\n",
    "\n",
    "        # Convert age to months\n",
    "        if 'year' in unit:\n",
    "            age = age * 12\n",
    "        elif 'week' in unit:\n",
    "            age = age / 4  # Approximate weeks to months\n",
    "        elif 'day' in unit:\n",
    "            age = age / 30  # Approximate days to months\n",
    "\n",
    "        # Categorize based on age\n",
    "        if age <= 4:  # 4 months or less\n",
    "            return 'baby'\n",
    "        elif 5 <= age <= 24:  # 5 months - 2 years\n",
    "            return 'young'\n",
    "        elif 25 <= age <= 120:  # 3 years - 10 years\n",
    "            return 'adult'\n",
    "        else:  # 11 years and older\n",
    "            return 'senior'\n",
    "    else:\n",
    "        return 'unknown'\n",
    "\n",
    "outcomes_df['age_group'] = outcomes_df['age_upon_outcome'].apply(categorize_age_group)\n",
    "adoptions_df = outcomes_df[outcomes_df['outcome_type'] == 'Adoption']\n",
    "adoption_counts = adoptions_df['age_group'].value_counts()\n",
    "total_counts = outcomes_df['age_group'].value_counts()\n",
    "adoption_rates = (adoption_counts / total_counts) * 100\n",
    "\n",
    "print(\"Adoption rates for the specified age groups:\")\n",
    "print(adoption_rates)"
   ]
  },
  {
   "cell_type": "markdown",
   "id": "c89af5df-3428-4c60-8366-4ea025a3d9cb",
   "metadata": {},
   "source": [
    "# If spay/neuter for a dog costs 100 and a spay/neuter for a cat costs 50, how much did the shelter spend in 2015 on these procedures?\n",
    "\n",
    "The total cost in 2015 was $1,406,900.\n",
    "\n",
    "I defined the costs for spaying/neutering a dog and a cat. Then, I counted the number of dogs and cats that were spayed/neutered in 2015 from the intake data. After that, I multiplied the number of dogs by the cost of spaying/neutering a dog and the number of cats by the cost of spaying/neutering a cat. Finally, I added these two costs together to find the total amount spent by the shelter on spay/neuter procedures in 2015."
   ]
  },
  {
   "cell_type": "code",
   "execution_count": 50,
   "id": "9bf7fda8-e220-4664-80ac-78826f217ac6",
   "metadata": {},
   "outputs": [
    {
     "name": "stdout",
     "output_type": "stream",
     "text": [
      "Total cost spent on spay/neuter procedures in 2015: $ 1406900\n"
     ]
    }
   ],
   "source": [
    "dog_spay_neuter_cost = 100\n",
    "cat_spay_neuter_cost = 50\n",
    "\n",
    "dogs_spayed_neutered = len(intakes_2015[intakes_2015['animal_type'] == 'Dog'])\n",
    "cats_spayed_neutered = len(intakes_2015[intakes_2015['animal_type'] == 'Cat'])\n",
    "total_spay_neuter_cost = (dogs_spayed_neutered * dog_spay_neuter_cost) + (cats_spayed_neutered * cat_spay_neuter_cost)\n",
    "\n",
    "print(\"Total cost spent on spay/neuter procedures in 2015: $\", total_spay_neuter_cost)"
   ]
  }
 ],
 "metadata": {
  "kernelspec": {
   "display_name": "Python 3 (ipykernel)",
   "language": "python",
   "name": "python3"
  },
  "language_info": {
   "codemirror_mode": {
    "name": "ipython",
    "version": 3
   },
   "file_extension": ".py",
   "mimetype": "text/x-python",
   "name": "python",
   "nbconvert_exporter": "python",
   "pygments_lexer": "ipython3",
   "version": "3.11.7"
  }
 },
 "nbformat": 4,
 "nbformat_minor": 5
}
